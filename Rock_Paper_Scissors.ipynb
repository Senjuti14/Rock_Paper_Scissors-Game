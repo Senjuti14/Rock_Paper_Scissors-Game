{
 "cells": [
  {
   "cell_type": "code",
   "execution_count": null,
   "metadata": {},
   "outputs": [],
   "source": [
    "#Lets play \"Rock, paper, scissors\" \n",
    "\n",
    "\n",
    "import random\n",
    "\n",
    "user_winning = 0\n",
    "computer_winning = 0\n",
    "\n",
    "feedback = [\"rock\", \"paper\", \"scissors\"]\n",
    "\n",
    "while True:\n",
    "    choice = input(\"Answer Rock/Paper/Scissors or Q to quit the game: \").lower()\n",
    "    if choice == \"q\":\n",
    "        break\n",
    "\n",
    "    if choice not in feedback:\n",
    "        continue\n",
    "        \n",
    "#generating a random number\n",
    "\n",
    "    random_number = random.randint(0, 2)\n",
    "    \n",
    "    # Lets assume as rock is 0, paper is 1, scissors is 2\n",
    "    \n",
    "    computer= feedback[random_number]\n",
    "    print(\"Computer has chosen\", computer + \".\")\n",
    "\n",
    "    if choice== \"rock\" and computer == \"scissors\":\n",
    "        print(\"You have won!\")\n",
    "        user_winning += 1\n",
    "\n",
    "    elif choice == \"paper\" and computer == \"rock\":\n",
    "        print(\"You have won!\")\n",
    "        user_winning += 1\n",
    "\n",
    "    elif choice == \"scissors\" and computer == \"paper\":\n",
    "        print(\"You won!\")\n",
    "        user_winning += 1\n",
    "\n",
    "    else:\n",
    "        print(\"You have lost!\")\n",
    "        computer_winning += 1\n",
    "\n",
    "print(\"You have won \" + str(user_winning) + \" times.\")\n",
    "print(\"The computer has won \" + str(computer_winning) + \" times.\")\n",
    "print(\"Hope you enjoyed the game! Bye!\")"
   ]
  },
  {
   "cell_type": "code",
   "execution_count": null,
   "metadata": {},
   "outputs": [],
   "source": []
  }
 ],
 "metadata": {
  "kernelspec": {
   "display_name": "Python 3",
   "language": "python",
   "name": "python3"
  },
  "language_info": {
   "codemirror_mode": {
    "name": "ipython",
    "version": 3
   },
   "file_extension": ".py",
   "mimetype": "text/x-python",
   "name": "python",
   "nbconvert_exporter": "python",
   "pygments_lexer": "ipython3",
   "version": "3.7.6"
  }
 },
 "nbformat": 4,
 "nbformat_minor": 4
}
